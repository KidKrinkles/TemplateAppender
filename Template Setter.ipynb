{
 "cells": [
  {
   "cell_type": "markdown",
   "id": "89f41d4d",
   "metadata": {},
   "source": [
    "# Template Setter v1\n",
    "## By Ryan Greene\n",
    "### Small program designed to take a couple excel templates located on my own computer, and from a set of source information for a client, copy that information to a copy of our template, which is our output. \n",
    "\n",
    "Part of our internal problem is that our India team is very tech savy, and has their expectations for this worksheet. Meanwhile on our side where we're more client facing, the worksheet is noisy, with a lot of extra information, and is intimidating to less tech-savy people.\n",
    "\n",
    "The hope is that Tylor has edited the worksheet and I provided some feedback to make the template more accessible to a client, and more likely for them to fill out (the template was condensed from close to 30ish rows on one sheet, to nine on the first, seperated by two tabs-- required and optional). \n",
    "\n",
    "This program works like a printing-press: the information from one fixed-location on a worksheet is pressed to another fixed-location on a seperate worksheet. The idea is that we can give the client something they can work with externally, and when we transmit it internally, it's what our technical folks are used to seeing internally.\n",
    "\n",
    "This is a v1. The hope is that I will be able to package this into a neat GUI and then an .exe that will allow ANYONE (not just me; it needs to be run in Python at present) to perform this function.\n",
    "\n",
    "In this state, if a client were to give me a report internally that contained all the information on their template, I can use my code to map out their information from their report, to ours, rather than make them fill out our template, allowing us to completely subvert the client facing template.\n",
    "\n",
    "Additionally, this program model is the framework for performing the same function on order guides. Ideally once I have it as an executable that allows the fields to have their targets changed internally, I'll make a second program geared towards order guides, so someone can take an existing order history, and map that data into our order guide template."
   ]
  },
  {
   "cell_type": "code",
   "execution_count": 48,
   "id": "3e8828a4",
   "metadata": {},
   "outputs": [],
   "source": [
    "# Grab our packages/modules that we're using.\n",
    "\n",
    "import shutil\n",
    "import openpyxl"
   ]
  },
  {
   "cell_type": "code",
   "execution_count": 55,
   "id": "f8a5cc36",
   "metadata": {},
   "outputs": [],
   "source": [
    "# Instance various variables that are going to be used for our targeting below. These are specific to my machine.\n",
    "template_path = r'C:\\Users\\17327\\Desktop\\Work\\Programs\\Buyer User Template Uploader\\Buyer User Template - Original.xlsx'\n",
    "source_path   = r'C:\\Users\\17327\\Desktop\\Work\\Programs\\Buyer User Template Uploader\\Buyer User Template - Consolidated.xlsx'\n",
    "output_path   = r'C:\\Users\\17327\\Desktop\\Work\\Programs\\Buyer User Template Uploader\\Buyer User Template - Output.xlsx'"
   ]
  },
  {
   "cell_type": "code",
   "execution_count": 56,
   "id": "a13189d8",
   "metadata": {},
   "outputs": [],
   "source": [
    "# Load the template workbook and the source workbook\n",
    "template_workbook = openpyxl.load_workbook(template_path)\n",
    "source_workbook = openpyxl.load_workbook(source_path)\n",
    "\n",
    "#Creates a copy of the template for us to target and fill in with information from our source.\n",
    "shutil.copy(template_path, r\"C:\\Users\\17327\\Desktop\\Work\\Programs\\Buyer User Template Uploader\\Buyer User Template - Output.xlsx\")\n",
    "output_workbook = openpyxl.load_workbook(output_path)"
   ]
  },
  {
   "cell_type": "code",
   "execution_count": 57,
   "id": "3c0f6140",
   "metadata": {},
   "outputs": [],
   "source": [
    "# Select the desired sheets from the template and source workbooks\n",
    "\n",
    "output_sheet = output_workbook['USER Template']\n",
    "source_sheet = source_workbook['REQUIRED Fields']"
   ]
  },
  {
   "cell_type": "code",
   "execution_count": 61,
   "id": "37aa1d11",
   "metadata": {},
   "outputs": [],
   "source": [
    "# Iterate over the rows in the source sheet and update the corresponding rows in the template sheet\n",
    "for source_row, output_row in zip(source_sheet.iter_rows(min_row=0), output_sheet.iter_rows(min_row=0)):\n",
    "    \n",
    "    # Each number corresponds to a value in the excel sheet. 0 is A, 1 is B, etc.\n",
    "    # Source is where we're importing from, output is the copy of the template we're filling in.\n",
    "    # As an example, the first row \"output_row[0].value = source_row[1].value\" is mapping from our\n",
    "    # our source column B to output column A.\n",
    "    \n",
    "    # A-Z correspond through 0-25 respectively.\n",
    "    \n",
    "    output_row[3].value = source_row[0].value  # User's First Name\n",
    "    output_row[5].value = source_row[1].value  # User's Last Name\n",
    "    output_row[9].value = source_row[3].value  # User's Phone #\n",
    "    output_row[13].value = source_row[4].value  # User's Email Address \n",
    "    output_row[15].value = source_row[5].value  # Login ID\n",
    "    output_row[21].value = source_row[6].value  # Position ID\n",
    "    output_row[22].value = source_row[7].value  # User's Job Title\n",
    "    output_row[23].value = source_row[8].value  # User's Home Department\n",
    "\n"
   ]
  },
  {
   "cell_type": "code",
   "execution_count": 62,
   "id": "23f3060d",
   "metadata": {},
   "outputs": [],
   "source": [
    "# Save the changes to the template workbook\n",
    "output_workbook.save(output_path)"
   ]
  },
  {
   "cell_type": "code",
   "execution_count": 63,
   "id": "f91b349b",
   "metadata": {},
   "outputs": [],
   "source": [
    "# Close the workbooks\n",
    "template_workbook.close()\n",
    "source_workbook.close()"
   ]
  }
 ],
 "metadata": {
  "kernelspec": {
   "display_name": "Python 3 (ipykernel)",
   "language": "python",
   "name": "python3"
  },
  "language_info": {
   "codemirror_mode": {
    "name": "ipython",
    "version": 3
   },
   "file_extension": ".py",
   "mimetype": "text/x-python",
   "name": "python",
   "nbconvert_exporter": "python",
   "pygments_lexer": "ipython3",
   "version": "3.9.7"
  }
 },
 "nbformat": 4,
 "nbformat_minor": 5
}
